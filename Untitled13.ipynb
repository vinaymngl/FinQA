{
  "cells": [
    {
      "cell_type": "markdown",
      "metadata": {
        "id": "view-in-github",
        "colab_type": "text"
      },
      "source": [
        "<a href=\"https://colab.research.google.com/github/vinaymngl/FinQA/blob/main/Untitled13.ipynb\" target=\"_parent\"><img src=\"https://colab.research.google.com/assets/colab-badge.svg\" alt=\"Open In Colab\"/></a>"
      ]
    },
    {
      "cell_type": "code",
      "execution_count": 1,
      "metadata": {
        "colab": {
          "base_uri": "https://localhost:8080/"
        },
        "id": "eQCdBejR8ySi",
        "outputId": "5ab19c23-323f-4e6d-8a2d-d9237d8ee02b"
      },
      "outputs": [
        {
          "output_type": "stream",
          "name": "stdout",
          "text": [
            "Cloning into 'FinQA'...\n",
            "remote: Enumerating objects: 333, done.\u001b[K\n",
            "remote: Counting objects: 100% (176/176), done.\u001b[K\n",
            "remote: Compressing objects: 100% (119/119), done.\u001b[K\n",
            "remote: Total 333 (delta 85), reused 112 (delta 56), pack-reused 157\u001b[K\n",
            "Receiving objects: 100% (333/333), 42.87 MiB | 9.81 MiB/s, done.\n",
            "Resolving deltas: 100% (163/163), done.\n",
            "Updating files: 100% (54/54), done.\n"
          ]
        }
      ],
      "source": [
        "!git clone https://github.com/vinaymngl/FinQA\n"
      ]
    },
    {
      "cell_type": "code",
      "execution_count": 2,
      "metadata": {
        "colab": {
          "base_uri": "https://localhost:8080/"
        },
        "id": "4S04u1SR82MM",
        "outputId": "bf4f65fe-79be-4785-cc9b-158178a140af"
      },
      "outputs": [
        {
          "output_type": "stream",
          "name": "stdout",
          "text": [
            "Looking in indexes: https://pypi.org/simple, https://us-python.pkg.dev/colab-wheels/public/simple/\n",
            "Requirement already satisfied: torch in /usr/local/lib/python3.10/dist-packages (2.0.0+cu118)\n",
            "Collecting transformers\n",
            "  Downloading transformers-4.28.1-py3-none-any.whl (7.0 MB)\n",
            "\u001b[2K     \u001b[90m━━━━━━━━━━━━━━━━━━━━━━━━━━━━━━━━━━━━━━━━\u001b[0m \u001b[32m7.0/7.0 MB\u001b[0m \u001b[31m95.3 MB/s\u001b[0m eta \u001b[36m0:00:00\u001b[0m\n",
            "\u001b[?25hRequirement already satisfied: typing-extensions in /usr/local/lib/python3.10/dist-packages (from torch) (4.5.0)\n",
            "Requirement already satisfied: sympy in /usr/local/lib/python3.10/dist-packages (from torch) (1.11.1)\n",
            "Requirement already satisfied: triton==2.0.0 in /usr/local/lib/python3.10/dist-packages (from torch) (2.0.0)\n",
            "Requirement already satisfied: networkx in /usr/local/lib/python3.10/dist-packages (from torch) (3.1)\n",
            "Requirement already satisfied: filelock in /usr/local/lib/python3.10/dist-packages (from torch) (3.12.0)\n",
            "Requirement already satisfied: jinja2 in /usr/local/lib/python3.10/dist-packages (from torch) (3.1.2)\n",
            "Requirement already satisfied: lit in /usr/local/lib/python3.10/dist-packages (from triton==2.0.0->torch) (16.0.2)\n",
            "Requirement already satisfied: cmake in /usr/local/lib/python3.10/dist-packages (from triton==2.0.0->torch) (3.25.2)\n",
            "Requirement already satisfied: packaging>=20.0 in /usr/local/lib/python3.10/dist-packages (from transformers) (23.1)\n",
            "Requirement already satisfied: regex!=2019.12.17 in /usr/local/lib/python3.10/dist-packages (from transformers) (2022.10.31)\n",
            "Collecting tokenizers!=0.11.3,<0.14,>=0.11.1\n",
            "  Downloading tokenizers-0.13.3-cp310-cp310-manylinux_2_17_x86_64.manylinux2014_x86_64.whl (7.8 MB)\n",
            "\u001b[2K     \u001b[90m━━━━━━━━━━━━━━━━━━━━━━━━━━━━━━━━━━━━━━━━\u001b[0m \u001b[32m7.8/7.8 MB\u001b[0m \u001b[31m114.2 MB/s\u001b[0m eta \u001b[36m0:00:00\u001b[0m\n",
            "\u001b[?25hRequirement already satisfied: numpy>=1.17 in /usr/local/lib/python3.10/dist-packages (from transformers) (1.22.4)\n",
            "Collecting huggingface-hub<1.0,>=0.11.0\n",
            "  Downloading huggingface_hub-0.14.1-py3-none-any.whl (224 kB)\n",
            "\u001b[2K     \u001b[90m━━━━━━━━━━━━━━━━━━━━━━━━━━━━━━━━━━━━━━\u001b[0m \u001b[32m224.5/224.5 kB\u001b[0m \u001b[31m29.7 MB/s\u001b[0m eta \u001b[36m0:00:00\u001b[0m\n",
            "\u001b[?25hRequirement already satisfied: requests in /usr/local/lib/python3.10/dist-packages (from transformers) (2.27.1)\n",
            "Requirement already satisfied: tqdm>=4.27 in /usr/local/lib/python3.10/dist-packages (from transformers) (4.65.0)\n",
            "Requirement already satisfied: pyyaml>=5.1 in /usr/local/lib/python3.10/dist-packages (from transformers) (6.0)\n",
            "Requirement already satisfied: fsspec in /usr/local/lib/python3.10/dist-packages (from huggingface-hub<1.0,>=0.11.0->transformers) (2023.4.0)\n",
            "Requirement already satisfied: MarkupSafe>=2.0 in /usr/local/lib/python3.10/dist-packages (from jinja2->torch) (2.1.2)\n",
            "Requirement already satisfied: charset-normalizer~=2.0.0 in /usr/local/lib/python3.10/dist-packages (from requests->transformers) (2.0.12)\n",
            "Requirement already satisfied: urllib3<1.27,>=1.21.1 in /usr/local/lib/python3.10/dist-packages (from requests->transformers) (1.26.15)\n",
            "Requirement already satisfied: certifi>=2017.4.17 in /usr/local/lib/python3.10/dist-packages (from requests->transformers) (2022.12.7)\n",
            "Requirement already satisfied: idna<4,>=2.5 in /usr/local/lib/python3.10/dist-packages (from requests->transformers) (3.4)\n",
            "Requirement already satisfied: mpmath>=0.19 in /usr/local/lib/python3.10/dist-packages (from sympy->torch) (1.3.0)\n",
            "Installing collected packages: tokenizers, huggingface-hub, transformers\n",
            "Successfully installed huggingface-hub-0.14.1 tokenizers-0.13.3 transformers-4.28.1\n"
          ]
        }
      ],
      "source": [
        "!pip install torch transformers"
      ]
    },
    {
      "cell_type": "code",
      "execution_count": 3,
      "metadata": {
        "colab": {
          "base_uri": "https://localhost:8080/"
        },
        "id": "95zZL47vCtht",
        "outputId": "f11e0566-6021-4f14-ceaf-fed6cafbf7b7"
      },
      "outputs": [
        {
          "output_type": "stream",
          "name": "stdout",
          "text": [
            "/content/FinQA/code/retriever\n"
          ]
        }
      ],
      "source": [
        "%cd /content/FinQA/code/retriever"
      ]
    },
    {
      "cell_type": "code",
      "execution_count": null,
      "metadata": {
        "colab": {
          "base_uri": "https://localhost:8080/"
        },
        "id": "FLyAZz5BC4JE",
        "outputId": "36b0ac5e-faaf-4926-c3a2-103fdff4cb2a"
      },
      "outputs": [
        {
          "output_type": "stream",
          "name": "stdout",
          "text": [
            "./run_model.sh: line 3: export: `=': not a valid identifier\n",
            "./run_model.sh: line 3: export: `1,': not a valid identifier\n",
            "./run_model.sh: line 3: export: `2': not a valid identifier\n",
            "0 0\n",
            "\n",
            "Downloading (…)solve/main/vocab.txt: 100% 232k/232k [00:00<00:00, 576kB/s]\n",
            "Downloading (…)okenizer_config.json: 100% 28.0/28.0 [00:00<00:00, 127kB/s]\n",
            "Downloading (…)lve/main/config.json: 100% 570/570 [00:00<00:00, 3.94MB/s]\n",
            "Reading: operation_list.txt\n",
            "Reading: constant_list.txt\n",
            "Reading /content/FinQA/dataset/train.json\n",
            "Reading /content/FinQA/dataset/dev.json\n",
            "Reading /content/FinQA/dataset/test.json\n",
            "6251it [08:23, 12.42it/s]\n",
            "883it [01:07, 13.00it/s]\n",
            "1147it [01:34, 12.18it/s]\n",
            "####################INPUT PARAMETERS###################\n",
            "__module__ = config\n",
            "prog_name = retriever\n",
            "root_path = /content/FinQA/\n",
            "output_path = /content/FinQA/output/\n",
            "cache_dir = /content/FinQA/cache/\n",
            "model_save_name = retriever-bert-base-test\n",
            "train_file = /content/FinQA/dataset/train.json\n",
            "valid_file = /content/FinQA/dataset/dev.json\n",
            "test_file = /content/FinQA/dataset/test.json\n",
            "op_list_file = operation_list.txt\n",
            "const_list_file = constant_list.txt\n",
            "pretrained_model = bert\n",
            "model_size = bert-base-uncased\n",
            "device = cuda\n",
            "mode = train\n",
            "resume_model_path = \n",
            "saved_model_path = /content/FinQA/output/bert-base-6k_20210427232814/saved_model/loads/3/model.pt\n",
            "build_summary = False\n",
            "option = rand\n",
            "neg_rate = 3\n",
            "topn = 5\n",
            "sep_attention = True\n",
            "layer_norm = True\n",
            "num_decoder_layers = 1\n",
            "max_seq_length = 512\n",
            "max_program_length = 100\n",
            "n_best_size = 20\n",
            "dropout_rate = 0.1\n",
            "batch_size = 16\n",
            "batch_size_test = 16\n",
            "epoch = 1\n",
            "learning_rate = 2e-05\n",
            "report = 300\n",
            "report_loss = 100\n",
            "__dict__ = <attribute '__dict__' of 'parameters' objects>\n",
            "__weakref__ = <attribute '__weakref__' of 'parameters' objects>\n",
            "__doc__ = None\n",
            "#######################################################\n",
            "Downloading (…)lve/main/config.json: 100% 570/570 [00:00<00:00, 3.77MB/s]\n",
            "Downloading pytorch_model.bin: 100% 440M/440M [00:01<00:00, 289MB/s]\n",
            "Some weights of the model checkpoint at bert-base-uncased were not used when initializing BertModel: ['cls.predictions.bias', 'cls.predictions.transform.LayerNorm.weight', 'cls.predictions.transform.LayerNorm.bias', 'cls.seq_relationship.bias', 'cls.predictions.transform.dense.weight', 'cls.predictions.transform.dense.bias', 'cls.seq_relationship.weight', 'cls.predictions.decoder.weight']\n",
            "- This IS expected if you are initializing BertModel from the checkpoint of a model trained on another task or with another architecture (e.g. initializing a BertForSequenceClassification model from a BertForPreTraining model).\n",
            "- This IS NOT expected if you are initializing BertModel from the checkpoint of a model that you expect to be exactly identical (initializing a BertForSequenceClassification model from a BertForSequenceClassification model).\n",
            "<utils.DataLoader object at 0x7f7ae116a440>\n",
            "100 : loss = 696.704\n",
            "200 : loss = 532.887\n",
            "300 : loss = 517.854\n",
            "Round:  1.0\n",
            "1 : time = 419.610 \n",
            "Val test\n",
            "100% 1678/1678 [14:39<00:00,  1.91it/s]\n",
            "Top 3: 0.8007266893167232\n",
            "Top 5: 0.8933640726958957\n",
            "\n",
            "Top 3: 0.8007266893167232\n",
            "Top 5: 0.8933640726958957\n",
            "\n",
            "400 : loss = 468.673\n",
            "500 : loss = 451.201\n",
            "600 : loss = 484.498\n",
            "Round:  2.0\n",
            "2 : time = 1305.327 \n",
            "Val test\n",
            "100% 1678/1678 [14:39<00:00,  1.91it/s]\n",
            "Top 3: 0.8464986787466966\n",
            "Top 5: 0.9093134875694328\n",
            "\n",
            "Top 3: 0.8464986787466966\n",
            "Top 5: 0.9093134875694328\n",
            "\n",
            "700 : loss = 419.910\n",
            "800 : loss = 417.054\n",
            "900 : loss = 401.685\n",
            "Round:  3.0\n",
            "3 : time = 1305.705 \n",
            "Val test\n",
            "100% 1678/1678 [14:40<00:00,  1.91it/s]\n",
            "Top 3: 0.8591543978859945\n",
            "Top 5: 0.9166841934961977\n",
            "\n",
            "Top 3: 0.8591543978859945\n",
            "Top 5: 0.9166841934961977\n",
            "\n",
            "1000 : loss = 406.713\n",
            "1100 : loss = 372.117\n",
            "1200 : loss = 367.711\n",
            "Round:  4.0\n",
            "4 : time = 1306.665 \n",
            "Val test\n",
            " 31% 522/1678 [04:34<10:05,  1.91it/s]"
          ]
        }
      ],
      "source": [
        "!./run_model.sh"
      ]
    },
    {
      "cell_type": "code",
      "execution_count": null,
      "metadata": {
        "id": "kvxpQSNFC-on"
      },
      "outputs": [],
      "source": [
        "!python Test.py"
      ]
    }
  ],
  "metadata": {
    "accelerator": "GPU",
    "colab": {
      "provenance": [],
      "authorship_tag": "ABX9TyOsiCfFiWcGqB0+YQ0wBJbZ",
      "include_colab_link": true
    },
    "gpuClass": "standard",
    "kernelspec": {
      "display_name": "Python 3",
      "name": "python3"
    },
    "language_info": {
      "name": "python"
    }
  },
  "nbformat": 4,
  "nbformat_minor": 0
}